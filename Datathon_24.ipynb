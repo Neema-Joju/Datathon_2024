{
  "nbformat": 4,
  "nbformat_minor": 0,
  "metadata": {
    "colab": {
      "provenance": []
    },
    "kernelspec": {
      "name": "python3",
      "display_name": "Python 3"
    },
    "language_info": {
      "name": "python"
    }
  },
  "cells": [
    {
      "cell_type": "markdown",
      "source": [
        "### Please ensure the data file is properly loaded before running this file. Please upload the csv file of retail track"
      ],
      "metadata": {
        "id": "jQ-nWkpiqFUR"
      }
    },
    {
      "cell_type": "code",
      "execution_count": 340,
      "metadata": {
        "id": "2n2SCAfOpsIM"
      },
      "outputs": [],
      "source": [
        "# importing necessary files\n",
        "import numpy as np\n",
        "import pandas as pd\n",
        "import matplotlib.pyplot as plt\n",
        "from sklearn.model_selection import train_test_split\n",
        "from sklearn.preprocessing import StandardScaler\n",
        "from sklearn.preprocessing import MinMaxScaler\n",
        "from sklearn.ensemble import RandomForestRegressor\n",
        "from sklearn.neural_network import MLPRegressor"
      ]
    },
    {
      "cell_type": "code",
      "source": [
        "data=pd.read_csv(\"/content/UrbanEdgeApparel - UrbanEdgeApparel.csv\")"
      ],
      "metadata": {
        "id": "cFQ5LzmXqE-2"
      },
      "execution_count": 341,
      "outputs": []
    },
    {
      "cell_type": "code",
      "source": [
        "data.info()"
      ],
      "metadata": {
        "colab": {
          "base_uri": "https://localhost:8080/"
        },
        "id": "OmYe5Q9WrKQA",
        "outputId": "47da482d-d8c2-4d52-bea1-f85dda538d3d"
      },
      "execution_count": 342,
      "outputs": [
        {
          "output_type": "stream",
          "name": "stdout",
          "text": [
            "<class 'pandas.core.frame.DataFrame'>\n",
            "RangeIndex: 89644 entries, 0 to 89643\n",
            "Data columns (total 21 columns):\n",
            " #   Column                      Non-Null Count  Dtype  \n",
            "---  ------                      --------------  -----  \n",
            " 0   Order ID                    89644 non-null  int64  \n",
            " 1   Order Status                89644 non-null  object \n",
            " 2   Order Date                  89493 non-null  object \n",
            " 3   Order Day of Week           89493 non-null  object \n",
            " 4   Order Month                 89493 non-null  object \n",
            " 5   Order Year                  89493 non-null  float64\n",
            " 6   Customer ID                 89644 non-null  object \n",
            " 7   Company ID                  86536 non-null  object \n",
            " 8   Product ID                  89644 non-null  object \n",
            " 9   Product Variant ID          86200 non-null  object \n",
            " 10  Product Unit Selling Price  89644 non-null  float64\n",
            " 11  Product Quantity            89644 non-null  int64  \n",
            " 12  Total Selling Price         89644 non-null  float64\n",
            " 13  Payment Status              89644 non-null  object \n",
            " 14  Shipment ID                 89644 non-null  int64  \n",
            " 15  Shipment Number             89644 non-null  int64  \n",
            " 16  Shipping Address Type       89644 non-null  object \n",
            " 17  Shipping City               89607 non-null  object \n",
            " 18  Shipping State              89554 non-null  object \n",
            " 19  Shipping Postal Code        89607 non-null  object \n",
            " 20  Shipping Country            89607 non-null  object \n",
            "dtypes: float64(3), int64(4), object(14)\n",
            "memory usage: 14.4+ MB\n"
          ]
        }
      ]
    },
    {
      "cell_type": "code",
      "source": [
        "data.shape"
      ],
      "metadata": {
        "colab": {
          "base_uri": "https://localhost:8080/"
        },
        "id": "IW4dW8AQuI_p",
        "outputId": "7b5632d4-834c-4aa8-974c-db4329405d9d"
      },
      "execution_count": 343,
      "outputs": [
        {
          "output_type": "execute_result",
          "data": {
            "text/plain": [
              "(89644, 21)"
            ]
          },
          "metadata": {},
          "execution_count": 343
        }
      ]
    },
    {
      "cell_type": "code",
      "source": [
        "data.isnull().sum()"
      ],
      "metadata": {
        "colab": {
          "base_uri": "https://localhost:8080/"
        },
        "id": "TM_Qc6g1rt3Y",
        "outputId": "6e92c0ee-13c9-4129-f388-2ec1e9222fa9"
      },
      "execution_count": 344,
      "outputs": [
        {
          "output_type": "execute_result",
          "data": {
            "text/plain": [
              "Order ID                         0\n",
              "Order Status                     0\n",
              "Order Date                     151\n",
              "Order Day of Week              151\n",
              "Order Month                    151\n",
              "Order Year                     151\n",
              "Customer ID                      0\n",
              "Company ID                    3108\n",
              "Product ID                       0\n",
              "Product Variant ID            3444\n",
              "Product Unit Selling Price       0\n",
              "Product Quantity                 0\n",
              "Total Selling Price              0\n",
              "Payment Status                   0\n",
              "Shipment ID                      0\n",
              "Shipment Number                  0\n",
              "Shipping Address Type            0\n",
              "Shipping City                   37\n",
              "Shipping State                  90\n",
              "Shipping Postal Code            37\n",
              "Shipping Country                37\n",
              "dtype: int64"
            ]
          },
          "metadata": {},
          "execution_count": 344
        }
      ]
    },
    {
      "cell_type": "code",
      "source": [
        "#removing pending payment as they may affect the predicted values\n",
        "df= data[~data['Payment Status'].isin(['Canceled'])]"
      ],
      "metadata": {
        "id": "lXklf9uNsPqY"
      },
      "execution_count": 345,
      "outputs": []
    },
    {
      "cell_type": "code",
      "source": [
        "# Assign integer values to each country\n",
        "df['Shipping Country Code'] = pd.factorize(df['Shipping Country'])[0]"
      ],
      "metadata": {
        "colab": {
          "base_uri": "https://localhost:8080/"
        },
        "id": "wRWAZfMLBdYI",
        "outputId": "2b5a3929-8cdb-4863-95e5-fa575236846c"
      },
      "execution_count": 346,
      "outputs": [
        {
          "output_type": "stream",
          "name": "stderr",
          "text": [
            "<ipython-input-346-d91fb470628f>:2: SettingWithCopyWarning: \n",
            "A value is trying to be set on a copy of a slice from a DataFrame.\n",
            "Try using .loc[row_indexer,col_indexer] = value instead\n",
            "\n",
            "See the caveats in the documentation: https://pandas.pydata.org/pandas-docs/stable/user_guide/indexing.html#returning-a-view-versus-a-copy\n",
            "  df['Shipping Country Code'] = pd.factorize(df['Shipping Country'])[0]\n"
          ]
        }
      ]
    },
    {
      "cell_type": "code",
      "source": [
        "df.head()"
      ],
      "metadata": {
        "colab": {
          "base_uri": "https://localhost:8080/",
          "height": 377
        },
        "id": "b_nI8tzB_l6o",
        "outputId": "320c34f8-0ac5-4eff-d096-4af703bb25b0"
      },
      "execution_count": 347,
      "outputs": [
        {
          "output_type": "execute_result",
          "data": {
            "text/plain": [
              "   Order ID Order Status Order Date Order Day of Week Order Month  Order Year  \\\n",
              "0       104    Completed   6/6/2013          Thursday        June      2013.0   \n",
              "1       104    Completed   6/6/2013          Thursday        June      2013.0   \n",
              "2       107    Completed   6/6/2013          Thursday        June      2013.0   \n",
              "3       107    Completed   6/6/2013          Thursday        June      2013.0   \n",
              "4       107    Completed   6/6/2013          Thursday        June      2013.0   \n",
              "\n",
              "  Customer ID     Company ID  Product ID Product Variant ID  ...  \\\n",
              "0   Cust_3161  Company_87239   Prod_5030     Prod_Var_50300  ...   \n",
              "1   Cust_3161  Company_87239  Prod_70018     Prod_Var_70018  ...   \n",
              "2   Cust_2040  Company_83024   Prod_1000     Prod_Var_10003  ...   \n",
              "3   Cust_2040  Company_83024   Prod_1000     Prod_Var_10004  ...   \n",
              "4   Cust_2040  Company_83024   Prod_1000     Prod_Var_10005  ...   \n",
              "\n",
              "   Total Selling Price  Payment Status  Shipment ID Shipment Number  \\\n",
              "0               215.00        Received          271             271   \n",
              "1                75.00        Received          271             271   \n",
              "2                 3.95        Received          438             438   \n",
              "3                 3.95        Received          438             438   \n",
              "4                 7.90        Received          438             438   \n",
              "\n",
              "   Shipping Address Type  Shipping City        Shipping State  \\\n",
              "0               Business     Washington  District Of Columbia   \n",
              "1               Business     Washington  District Of Columbia   \n",
              "2               Business      Lone Tree              Colorado   \n",
              "3               Business      Lone Tree              Colorado   \n",
              "4               Business      Lone Tree              Colorado   \n",
              "\n",
              "  Shipping Postal Code Shipping Country Shipping Country Code  \n",
              "0           20011-2343    United States                     0  \n",
              "1           20011-2343    United States                     0  \n",
              "2                80124    United States                     0  \n",
              "3                80124    United States                     0  \n",
              "4                80124    United States                     0  \n",
              "\n",
              "[5 rows x 22 columns]"
            ],
            "text/html": [
              "\n",
              "  <div id=\"df-7505ee40-bc8c-4cae-9e08-7de2e48039ea\" class=\"colab-df-container\">\n",
              "    <div>\n",
              "<style scoped>\n",
              "    .dataframe tbody tr th:only-of-type {\n",
              "        vertical-align: middle;\n",
              "    }\n",
              "\n",
              "    .dataframe tbody tr th {\n",
              "        vertical-align: top;\n",
              "    }\n",
              "\n",
              "    .dataframe thead th {\n",
              "        text-align: right;\n",
              "    }\n",
              "</style>\n",
              "<table border=\"1\" class=\"dataframe\">\n",
              "  <thead>\n",
              "    <tr style=\"text-align: right;\">\n",
              "      <th></th>\n",
              "      <th>Order ID</th>\n",
              "      <th>Order Status</th>\n",
              "      <th>Order Date</th>\n",
              "      <th>Order Day of Week</th>\n",
              "      <th>Order Month</th>\n",
              "      <th>Order Year</th>\n",
              "      <th>Customer ID</th>\n",
              "      <th>Company ID</th>\n",
              "      <th>Product ID</th>\n",
              "      <th>Product Variant ID</th>\n",
              "      <th>...</th>\n",
              "      <th>Total Selling Price</th>\n",
              "      <th>Payment Status</th>\n",
              "      <th>Shipment ID</th>\n",
              "      <th>Shipment Number</th>\n",
              "      <th>Shipping Address Type</th>\n",
              "      <th>Shipping City</th>\n",
              "      <th>Shipping State</th>\n",
              "      <th>Shipping Postal Code</th>\n",
              "      <th>Shipping Country</th>\n",
              "      <th>Shipping Country Code</th>\n",
              "    </tr>\n",
              "  </thead>\n",
              "  <tbody>\n",
              "    <tr>\n",
              "      <th>0</th>\n",
              "      <td>104</td>\n",
              "      <td>Completed</td>\n",
              "      <td>6/6/2013</td>\n",
              "      <td>Thursday</td>\n",
              "      <td>June</td>\n",
              "      <td>2013.0</td>\n",
              "      <td>Cust_3161</td>\n",
              "      <td>Company_87239</td>\n",
              "      <td>Prod_5030</td>\n",
              "      <td>Prod_Var_50300</td>\n",
              "      <td>...</td>\n",
              "      <td>215.00</td>\n",
              "      <td>Received</td>\n",
              "      <td>271</td>\n",
              "      <td>271</td>\n",
              "      <td>Business</td>\n",
              "      <td>Washington</td>\n",
              "      <td>District Of Columbia</td>\n",
              "      <td>20011-2343</td>\n",
              "      <td>United States</td>\n",
              "      <td>0</td>\n",
              "    </tr>\n",
              "    <tr>\n",
              "      <th>1</th>\n",
              "      <td>104</td>\n",
              "      <td>Completed</td>\n",
              "      <td>6/6/2013</td>\n",
              "      <td>Thursday</td>\n",
              "      <td>June</td>\n",
              "      <td>2013.0</td>\n",
              "      <td>Cust_3161</td>\n",
              "      <td>Company_87239</td>\n",
              "      <td>Prod_70018</td>\n",
              "      <td>Prod_Var_70018</td>\n",
              "      <td>...</td>\n",
              "      <td>75.00</td>\n",
              "      <td>Received</td>\n",
              "      <td>271</td>\n",
              "      <td>271</td>\n",
              "      <td>Business</td>\n",
              "      <td>Washington</td>\n",
              "      <td>District Of Columbia</td>\n",
              "      <td>20011-2343</td>\n",
              "      <td>United States</td>\n",
              "      <td>0</td>\n",
              "    </tr>\n",
              "    <tr>\n",
              "      <th>2</th>\n",
              "      <td>107</td>\n",
              "      <td>Completed</td>\n",
              "      <td>6/6/2013</td>\n",
              "      <td>Thursday</td>\n",
              "      <td>June</td>\n",
              "      <td>2013.0</td>\n",
              "      <td>Cust_2040</td>\n",
              "      <td>Company_83024</td>\n",
              "      <td>Prod_1000</td>\n",
              "      <td>Prod_Var_10003</td>\n",
              "      <td>...</td>\n",
              "      <td>3.95</td>\n",
              "      <td>Received</td>\n",
              "      <td>438</td>\n",
              "      <td>438</td>\n",
              "      <td>Business</td>\n",
              "      <td>Lone Tree</td>\n",
              "      <td>Colorado</td>\n",
              "      <td>80124</td>\n",
              "      <td>United States</td>\n",
              "      <td>0</td>\n",
              "    </tr>\n",
              "    <tr>\n",
              "      <th>3</th>\n",
              "      <td>107</td>\n",
              "      <td>Completed</td>\n",
              "      <td>6/6/2013</td>\n",
              "      <td>Thursday</td>\n",
              "      <td>June</td>\n",
              "      <td>2013.0</td>\n",
              "      <td>Cust_2040</td>\n",
              "      <td>Company_83024</td>\n",
              "      <td>Prod_1000</td>\n",
              "      <td>Prod_Var_10004</td>\n",
              "      <td>...</td>\n",
              "      <td>3.95</td>\n",
              "      <td>Received</td>\n",
              "      <td>438</td>\n",
              "      <td>438</td>\n",
              "      <td>Business</td>\n",
              "      <td>Lone Tree</td>\n",
              "      <td>Colorado</td>\n",
              "      <td>80124</td>\n",
              "      <td>United States</td>\n",
              "      <td>0</td>\n",
              "    </tr>\n",
              "    <tr>\n",
              "      <th>4</th>\n",
              "      <td>107</td>\n",
              "      <td>Completed</td>\n",
              "      <td>6/6/2013</td>\n",
              "      <td>Thursday</td>\n",
              "      <td>June</td>\n",
              "      <td>2013.0</td>\n",
              "      <td>Cust_2040</td>\n",
              "      <td>Company_83024</td>\n",
              "      <td>Prod_1000</td>\n",
              "      <td>Prod_Var_10005</td>\n",
              "      <td>...</td>\n",
              "      <td>7.90</td>\n",
              "      <td>Received</td>\n",
              "      <td>438</td>\n",
              "      <td>438</td>\n",
              "      <td>Business</td>\n",
              "      <td>Lone Tree</td>\n",
              "      <td>Colorado</td>\n",
              "      <td>80124</td>\n",
              "      <td>United States</td>\n",
              "      <td>0</td>\n",
              "    </tr>\n",
              "  </tbody>\n",
              "</table>\n",
              "<p>5 rows × 22 columns</p>\n",
              "</div>\n",
              "    <div class=\"colab-df-buttons\">\n",
              "\n",
              "  <div class=\"colab-df-container\">\n",
              "    <button class=\"colab-df-convert\" onclick=\"convertToInteractive('df-7505ee40-bc8c-4cae-9e08-7de2e48039ea')\"\n",
              "            title=\"Convert this dataframe to an interactive table.\"\n",
              "            style=\"display:none;\">\n",
              "\n",
              "  <svg xmlns=\"http://www.w3.org/2000/svg\" height=\"24px\" viewBox=\"0 -960 960 960\">\n",
              "    <path d=\"M120-120v-720h720v720H120Zm60-500h600v-160H180v160Zm220 220h160v-160H400v160Zm0 220h160v-160H400v160ZM180-400h160v-160H180v160Zm440 0h160v-160H620v160ZM180-180h160v-160H180v160Zm440 0h160v-160H620v160Z\"/>\n",
              "  </svg>\n",
              "    </button>\n",
              "\n",
              "  <style>\n",
              "    .colab-df-container {\n",
              "      display:flex;\n",
              "      gap: 12px;\n",
              "    }\n",
              "\n",
              "    .colab-df-convert {\n",
              "      background-color: #E8F0FE;\n",
              "      border: none;\n",
              "      border-radius: 50%;\n",
              "      cursor: pointer;\n",
              "      display: none;\n",
              "      fill: #1967D2;\n",
              "      height: 32px;\n",
              "      padding: 0 0 0 0;\n",
              "      width: 32px;\n",
              "    }\n",
              "\n",
              "    .colab-df-convert:hover {\n",
              "      background-color: #E2EBFA;\n",
              "      box-shadow: 0px 1px 2px rgba(60, 64, 67, 0.3), 0px 1px 3px 1px rgba(60, 64, 67, 0.15);\n",
              "      fill: #174EA6;\n",
              "    }\n",
              "\n",
              "    .colab-df-buttons div {\n",
              "      margin-bottom: 4px;\n",
              "    }\n",
              "\n",
              "    [theme=dark] .colab-df-convert {\n",
              "      background-color: #3B4455;\n",
              "      fill: #D2E3FC;\n",
              "    }\n",
              "\n",
              "    [theme=dark] .colab-df-convert:hover {\n",
              "      background-color: #434B5C;\n",
              "      box-shadow: 0px 1px 3px 1px rgba(0, 0, 0, 0.15);\n",
              "      filter: drop-shadow(0px 1px 2px rgba(0, 0, 0, 0.3));\n",
              "      fill: #FFFFFF;\n",
              "    }\n",
              "  </style>\n",
              "\n",
              "    <script>\n",
              "      const buttonEl =\n",
              "        document.querySelector('#df-7505ee40-bc8c-4cae-9e08-7de2e48039ea button.colab-df-convert');\n",
              "      buttonEl.style.display =\n",
              "        google.colab.kernel.accessAllowed ? 'block' : 'none';\n",
              "\n",
              "      async function convertToInteractive(key) {\n",
              "        const element = document.querySelector('#df-7505ee40-bc8c-4cae-9e08-7de2e48039ea');\n",
              "        const dataTable =\n",
              "          await google.colab.kernel.invokeFunction('convertToInteractive',\n",
              "                                                    [key], {});\n",
              "        if (!dataTable) return;\n",
              "\n",
              "        const docLinkHtml = 'Like what you see? Visit the ' +\n",
              "          '<a target=\"_blank\" href=https://colab.research.google.com/notebooks/data_table.ipynb>data table notebook</a>'\n",
              "          + ' to learn more about interactive tables.';\n",
              "        element.innerHTML = '';\n",
              "        dataTable['output_type'] = 'display_data';\n",
              "        await google.colab.output.renderOutput(dataTable, element);\n",
              "        const docLink = document.createElement('div');\n",
              "        docLink.innerHTML = docLinkHtml;\n",
              "        element.appendChild(docLink);\n",
              "      }\n",
              "    </script>\n",
              "  </div>\n",
              "\n",
              "\n",
              "<div id=\"df-f3a3f926-10a8-4683-9897-8e6e3b215286\">\n",
              "  <button class=\"colab-df-quickchart\" onclick=\"quickchart('df-f3a3f926-10a8-4683-9897-8e6e3b215286')\"\n",
              "            title=\"Suggest charts\"\n",
              "            style=\"display:none;\">\n",
              "\n",
              "<svg xmlns=\"http://www.w3.org/2000/svg\" height=\"24px\"viewBox=\"0 0 24 24\"\n",
              "     width=\"24px\">\n",
              "    <g>\n",
              "        <path d=\"M19 3H5c-1.1 0-2 .9-2 2v14c0 1.1.9 2 2 2h14c1.1 0 2-.9 2-2V5c0-1.1-.9-2-2-2zM9 17H7v-7h2v7zm4 0h-2V7h2v10zm4 0h-2v-4h2v4z\"/>\n",
              "    </g>\n",
              "</svg>\n",
              "  </button>\n",
              "\n",
              "<style>\n",
              "  .colab-df-quickchart {\n",
              "      --bg-color: #E8F0FE;\n",
              "      --fill-color: #1967D2;\n",
              "      --hover-bg-color: #E2EBFA;\n",
              "      --hover-fill-color: #174EA6;\n",
              "      --disabled-fill-color: #AAA;\n",
              "      --disabled-bg-color: #DDD;\n",
              "  }\n",
              "\n",
              "  [theme=dark] .colab-df-quickchart {\n",
              "      --bg-color: #3B4455;\n",
              "      --fill-color: #D2E3FC;\n",
              "      --hover-bg-color: #434B5C;\n",
              "      --hover-fill-color: #FFFFFF;\n",
              "      --disabled-bg-color: #3B4455;\n",
              "      --disabled-fill-color: #666;\n",
              "  }\n",
              "\n",
              "  .colab-df-quickchart {\n",
              "    background-color: var(--bg-color);\n",
              "    border: none;\n",
              "    border-radius: 50%;\n",
              "    cursor: pointer;\n",
              "    display: none;\n",
              "    fill: var(--fill-color);\n",
              "    height: 32px;\n",
              "    padding: 0;\n",
              "    width: 32px;\n",
              "  }\n",
              "\n",
              "  .colab-df-quickchart:hover {\n",
              "    background-color: var(--hover-bg-color);\n",
              "    box-shadow: 0 1px 2px rgba(60, 64, 67, 0.3), 0 1px 3px 1px rgba(60, 64, 67, 0.15);\n",
              "    fill: var(--button-hover-fill-color);\n",
              "  }\n",
              "\n",
              "  .colab-df-quickchart-complete:disabled,\n",
              "  .colab-df-quickchart-complete:disabled:hover {\n",
              "    background-color: var(--disabled-bg-color);\n",
              "    fill: var(--disabled-fill-color);\n",
              "    box-shadow: none;\n",
              "  }\n",
              "\n",
              "  .colab-df-spinner {\n",
              "    border: 2px solid var(--fill-color);\n",
              "    border-color: transparent;\n",
              "    border-bottom-color: var(--fill-color);\n",
              "    animation:\n",
              "      spin 1s steps(1) infinite;\n",
              "  }\n",
              "\n",
              "  @keyframes spin {\n",
              "    0% {\n",
              "      border-color: transparent;\n",
              "      border-bottom-color: var(--fill-color);\n",
              "      border-left-color: var(--fill-color);\n",
              "    }\n",
              "    20% {\n",
              "      border-color: transparent;\n",
              "      border-left-color: var(--fill-color);\n",
              "      border-top-color: var(--fill-color);\n",
              "    }\n",
              "    30% {\n",
              "      border-color: transparent;\n",
              "      border-left-color: var(--fill-color);\n",
              "      border-top-color: var(--fill-color);\n",
              "      border-right-color: var(--fill-color);\n",
              "    }\n",
              "    40% {\n",
              "      border-color: transparent;\n",
              "      border-right-color: var(--fill-color);\n",
              "      border-top-color: var(--fill-color);\n",
              "    }\n",
              "    60% {\n",
              "      border-color: transparent;\n",
              "      border-right-color: var(--fill-color);\n",
              "    }\n",
              "    80% {\n",
              "      border-color: transparent;\n",
              "      border-right-color: var(--fill-color);\n",
              "      border-bottom-color: var(--fill-color);\n",
              "    }\n",
              "    90% {\n",
              "      border-color: transparent;\n",
              "      border-bottom-color: var(--fill-color);\n",
              "    }\n",
              "  }\n",
              "</style>\n",
              "\n",
              "  <script>\n",
              "    async function quickchart(key) {\n",
              "      const quickchartButtonEl =\n",
              "        document.querySelector('#' + key + ' button');\n",
              "      quickchartButtonEl.disabled = true;  // To prevent multiple clicks.\n",
              "      quickchartButtonEl.classList.add('colab-df-spinner');\n",
              "      try {\n",
              "        const charts = await google.colab.kernel.invokeFunction(\n",
              "            'suggestCharts', [key], {});\n",
              "      } catch (error) {\n",
              "        console.error('Error during call to suggestCharts:', error);\n",
              "      }\n",
              "      quickchartButtonEl.classList.remove('colab-df-spinner');\n",
              "      quickchartButtonEl.classList.add('colab-df-quickchart-complete');\n",
              "    }\n",
              "    (() => {\n",
              "      let quickchartButtonEl =\n",
              "        document.querySelector('#df-f3a3f926-10a8-4683-9897-8e6e3b215286 button');\n",
              "      quickchartButtonEl.style.display =\n",
              "        google.colab.kernel.accessAllowed ? 'block' : 'none';\n",
              "    })();\n",
              "  </script>\n",
              "</div>\n",
              "\n",
              "    </div>\n",
              "  </div>\n"
            ],
            "application/vnd.google.colaboratory.intrinsic+json": {
              "type": "dataframe",
              "variable_name": "df"
            }
          },
          "metadata": {},
          "execution_count": 347
        }
      ]
    },
    {
      "cell_type": "code",
      "source": [
        "df.iloc[991]"
      ],
      "metadata": {
        "colab": {
          "base_uri": "https://localhost:8080/"
        },
        "id": "JsmTVjFTCAOu",
        "outputId": "39f95c67-8d70-4ae2-c978-20c8f0b76a5c"
      },
      "execution_count": 348,
      "outputs": [
        {
          "output_type": "execute_result",
          "data": {
            "text/plain": [
              "Order ID                                    647\n",
              "Order Status                          Completed\n",
              "Order Date                            5/25/2014\n",
              "Order Day of Week                        Sunday\n",
              "Order Month                                 May\n",
              "Order Year                               2014.0\n",
              "Customer ID                           Cust_2570\n",
              "Company ID                        Company_89211\n",
              "Product ID                            Prod_4800\n",
              "Product Variant ID               Prod_Var_48002\n",
              "Product Unit Selling Price                  8.0\n",
              "Product Quantity                              1\n",
              "Total Selling Price                         8.0\n",
              "Payment Status                         Received\n",
              "Shipment ID                                1485\n",
              "Shipment Number                            1485\n",
              "Shipping Address Type               Residential\n",
              "Shipping City                       Rheinfelden\n",
              "Shipping State                Baden Württemberg\n",
              "Shipping Postal Code                      79618\n",
              "Shipping Country                        Germany\n",
              "Shipping Country Code                         1\n",
              "Name: 991, dtype: object"
            ]
          },
          "metadata": {},
          "execution_count": 348
        }
      ]
    },
    {
      "cell_type": "code",
      "source": [
        "df['Payment Status']"
      ],
      "metadata": {
        "colab": {
          "base_uri": "https://localhost:8080/"
        },
        "id": "mtoyNn-DtmV5",
        "outputId": "9128e543-0591-40ca-a24b-8a6e7d72bf44"
      },
      "execution_count": 349,
      "outputs": [
        {
          "output_type": "execute_result",
          "data": {
            "text/plain": [
              "0        Received\n",
              "1        Received\n",
              "2        Received\n",
              "3        Received\n",
              "4        Received\n",
              "           ...   \n",
              "89639    Received\n",
              "89640    Received\n",
              "89641    Received\n",
              "89642    Received\n",
              "89643    Received\n",
              "Name: Payment Status, Length: 88598, dtype: object"
            ]
          },
          "metadata": {},
          "execution_count": 349
        }
      ]
    },
    {
      "cell_type": "code",
      "source": [
        "#dropping unnecessary values\n",
        "df=df.drop('Payment Status',axis=1)\n",
        "df=df.drop('Order Status',axis=1)\n",
        "df=df.drop('Order Date',axis=1)\n",
        "df=df.drop('Order Day of Week',axis=1)\n",
        "df=df.drop('Order Month',axis=1)\n",
        "df=df.drop('Product Variant ID',axis=1)\n",
        "df=df.drop('Shipping Address Type',axis=1)\n",
        "df=df.drop('Shipping City',axis=1)\n",
        "df=df.drop('Shipping State',axis=1)\n",
        "df=df.drop('Shipping Postal Code',axis=1)\n",
        "df=df.drop('Shipping Country',axis=1)"
      ],
      "metadata": {
        "id": "39Eihggv5bY4"
      },
      "execution_count": 350,
      "outputs": []
    },
    {
      "cell_type": "code",
      "source": [
        "# Fill missing values with a default value 0\n",
        "# Some customers don't have company Id they could just be individuals buying\n",
        "df['Company ID'] = df['Company ID'].fillna('0')"
      ],
      "metadata": {
        "id": "zmPSB98688Q5"
      },
      "execution_count": 351,
      "outputs": []
    },
    {
      "cell_type": "code",
      "source": [
        "#converting string to int\n",
        "df['Company ID'] = df['Company ID'].str.extract('(\\d+)').astype(int)\n",
        "df['Customer ID'] = df['Customer ID'].str.extract('(\\d+)').astype(int)\n",
        "df['Product ID'] = df['Product ID'].str.extract('(\\d+)').astype(int)"
      ],
      "metadata": {
        "id": "Dn8kGBHM68RK"
      },
      "execution_count": 352,
      "outputs": []
    },
    {
      "cell_type": "code",
      "source": [
        "# Drop rows with null values across all columns\n",
        "df = df.dropna()"
      ],
      "metadata": {
        "id": "or_3BaPIDE3r"
      },
      "execution_count": 353,
      "outputs": []
    },
    {
      "cell_type": "code",
      "source": [
        "df= df[~df['Total Selling Price'].isin(['0'])]"
      ],
      "metadata": {
        "id": "o0WqyLFPIfn2"
      },
      "execution_count": 354,
      "outputs": []
    },
    {
      "cell_type": "code",
      "source": [
        "#For the company as a whole\n",
        "y=df['Total Selling Price']"
      ],
      "metadata": {
        "id": "dlqE-NJ50QoL"
      },
      "execution_count": 355,
      "outputs": []
    },
    {
      "cell_type": "code",
      "source": [
        "y.info()"
      ],
      "metadata": {
        "colab": {
          "base_uri": "https://localhost:8080/"
        },
        "id": "GjJzWJukFF28",
        "outputId": "37ed0f2e-9cbf-4d34-f4f8-41b1acc195fc"
      },
      "execution_count": 356,
      "outputs": [
        {
          "output_type": "stream",
          "name": "stdout",
          "text": [
            "<class 'pandas.core.series.Series'>\n",
            "Index: 88449 entries, 0 to 89643\n",
            "Series name: Total Selling Price\n",
            "Non-Null Count  Dtype  \n",
            "--------------  -----  \n",
            "88449 non-null  float64\n",
            "dtypes: float64(1)\n",
            "memory usage: 1.3 MB\n"
          ]
        }
      ]
    },
    {
      "cell_type": "code",
      "source": [
        "x=df.drop('Total Selling Price',axis=1)"
      ],
      "metadata": {
        "id": "O1Le1sK21iGs"
      },
      "execution_count": 357,
      "outputs": []
    },
    {
      "cell_type": "code",
      "source": [
        "x.info()"
      ],
      "metadata": {
        "colab": {
          "base_uri": "https://localhost:8080/"
        },
        "id": "9e_eT-AgFNFi",
        "outputId": "e43f28e4-07dc-48e2-9f62-016d135ba3cb"
      },
      "execution_count": 358,
      "outputs": [
        {
          "output_type": "stream",
          "name": "stdout",
          "text": [
            "<class 'pandas.core.frame.DataFrame'>\n",
            "Index: 88449 entries, 0 to 89643\n",
            "Data columns (total 10 columns):\n",
            " #   Column                      Non-Null Count  Dtype  \n",
            "---  ------                      --------------  -----  \n",
            " 0   Order ID                    88449 non-null  int64  \n",
            " 1   Order Year                  88449 non-null  float64\n",
            " 2   Customer ID                 88449 non-null  int64  \n",
            " 3   Company ID                  88449 non-null  int64  \n",
            " 4   Product ID                  88449 non-null  int64  \n",
            " 5   Product Unit Selling Price  88449 non-null  float64\n",
            " 6   Product Quantity            88449 non-null  int64  \n",
            " 7   Shipment ID                 88449 non-null  int64  \n",
            " 8   Shipment Number             88449 non-null  int64  \n",
            " 9   Shipping Country Code       88449 non-null  int64  \n",
            "dtypes: float64(2), int64(8)\n",
            "memory usage: 7.4 MB\n"
          ]
        }
      ]
    },
    {
      "cell_type": "code",
      "source": [
        "x.head()"
      ],
      "metadata": {
        "colab": {
          "base_uri": "https://localhost:8080/",
          "height": 243
        },
        "id": "EZPmBkSr_ajI",
        "outputId": "e89a8696-39c6-4274-9fed-a4ce83593d0e"
      },
      "execution_count": 359,
      "outputs": [
        {
          "output_type": "execute_result",
          "data": {
            "text/plain": [
              "   Order ID  Order Year  Customer ID  Company ID  Product ID  \\\n",
              "0       104      2013.0         3161       87239        5030   \n",
              "1       104      2013.0         3161       87239       70018   \n",
              "2       107      2013.0         2040       83024        1000   \n",
              "3       107      2013.0         2040       83024        1000   \n",
              "4       107      2013.0         2040       83024        1000   \n",
              "\n",
              "   Product Unit Selling Price  Product Quantity  Shipment ID  Shipment Number  \\\n",
              "0                        4.30                50          271              271   \n",
              "1                        1.50                50          271              271   \n",
              "2                        3.95                 1          438              438   \n",
              "3                        3.95                 1          438              438   \n",
              "4                        3.95                 2          438              438   \n",
              "\n",
              "   Shipping Country Code  \n",
              "0                      0  \n",
              "1                      0  \n",
              "2                      0  \n",
              "3                      0  \n",
              "4                      0  "
            ],
            "text/html": [
              "\n",
              "  <div id=\"df-929bbfdf-d5c1-49e9-a2b6-57d77d1d8213\" class=\"colab-df-container\">\n",
              "    <div>\n",
              "<style scoped>\n",
              "    .dataframe tbody tr th:only-of-type {\n",
              "        vertical-align: middle;\n",
              "    }\n",
              "\n",
              "    .dataframe tbody tr th {\n",
              "        vertical-align: top;\n",
              "    }\n",
              "\n",
              "    .dataframe thead th {\n",
              "        text-align: right;\n",
              "    }\n",
              "</style>\n",
              "<table border=\"1\" class=\"dataframe\">\n",
              "  <thead>\n",
              "    <tr style=\"text-align: right;\">\n",
              "      <th></th>\n",
              "      <th>Order ID</th>\n",
              "      <th>Order Year</th>\n",
              "      <th>Customer ID</th>\n",
              "      <th>Company ID</th>\n",
              "      <th>Product ID</th>\n",
              "      <th>Product Unit Selling Price</th>\n",
              "      <th>Product Quantity</th>\n",
              "      <th>Shipment ID</th>\n",
              "      <th>Shipment Number</th>\n",
              "      <th>Shipping Country Code</th>\n",
              "    </tr>\n",
              "  </thead>\n",
              "  <tbody>\n",
              "    <tr>\n",
              "      <th>0</th>\n",
              "      <td>104</td>\n",
              "      <td>2013.0</td>\n",
              "      <td>3161</td>\n",
              "      <td>87239</td>\n",
              "      <td>5030</td>\n",
              "      <td>4.30</td>\n",
              "      <td>50</td>\n",
              "      <td>271</td>\n",
              "      <td>271</td>\n",
              "      <td>0</td>\n",
              "    </tr>\n",
              "    <tr>\n",
              "      <th>1</th>\n",
              "      <td>104</td>\n",
              "      <td>2013.0</td>\n",
              "      <td>3161</td>\n",
              "      <td>87239</td>\n",
              "      <td>70018</td>\n",
              "      <td>1.50</td>\n",
              "      <td>50</td>\n",
              "      <td>271</td>\n",
              "      <td>271</td>\n",
              "      <td>0</td>\n",
              "    </tr>\n",
              "    <tr>\n",
              "      <th>2</th>\n",
              "      <td>107</td>\n",
              "      <td>2013.0</td>\n",
              "      <td>2040</td>\n",
              "      <td>83024</td>\n",
              "      <td>1000</td>\n",
              "      <td>3.95</td>\n",
              "      <td>1</td>\n",
              "      <td>438</td>\n",
              "      <td>438</td>\n",
              "      <td>0</td>\n",
              "    </tr>\n",
              "    <tr>\n",
              "      <th>3</th>\n",
              "      <td>107</td>\n",
              "      <td>2013.0</td>\n",
              "      <td>2040</td>\n",
              "      <td>83024</td>\n",
              "      <td>1000</td>\n",
              "      <td>3.95</td>\n",
              "      <td>1</td>\n",
              "      <td>438</td>\n",
              "      <td>438</td>\n",
              "      <td>0</td>\n",
              "    </tr>\n",
              "    <tr>\n",
              "      <th>4</th>\n",
              "      <td>107</td>\n",
              "      <td>2013.0</td>\n",
              "      <td>2040</td>\n",
              "      <td>83024</td>\n",
              "      <td>1000</td>\n",
              "      <td>3.95</td>\n",
              "      <td>2</td>\n",
              "      <td>438</td>\n",
              "      <td>438</td>\n",
              "      <td>0</td>\n",
              "    </tr>\n",
              "  </tbody>\n",
              "</table>\n",
              "</div>\n",
              "    <div class=\"colab-df-buttons\">\n",
              "\n",
              "  <div class=\"colab-df-container\">\n",
              "    <button class=\"colab-df-convert\" onclick=\"convertToInteractive('df-929bbfdf-d5c1-49e9-a2b6-57d77d1d8213')\"\n",
              "            title=\"Convert this dataframe to an interactive table.\"\n",
              "            style=\"display:none;\">\n",
              "\n",
              "  <svg xmlns=\"http://www.w3.org/2000/svg\" height=\"24px\" viewBox=\"0 -960 960 960\">\n",
              "    <path d=\"M120-120v-720h720v720H120Zm60-500h600v-160H180v160Zm220 220h160v-160H400v160Zm0 220h160v-160H400v160ZM180-400h160v-160H180v160Zm440 0h160v-160H620v160ZM180-180h160v-160H180v160Zm440 0h160v-160H620v160Z\"/>\n",
              "  </svg>\n",
              "    </button>\n",
              "\n",
              "  <style>\n",
              "    .colab-df-container {\n",
              "      display:flex;\n",
              "      gap: 12px;\n",
              "    }\n",
              "\n",
              "    .colab-df-convert {\n",
              "      background-color: #E8F0FE;\n",
              "      border: none;\n",
              "      border-radius: 50%;\n",
              "      cursor: pointer;\n",
              "      display: none;\n",
              "      fill: #1967D2;\n",
              "      height: 32px;\n",
              "      padding: 0 0 0 0;\n",
              "      width: 32px;\n",
              "    }\n",
              "\n",
              "    .colab-df-convert:hover {\n",
              "      background-color: #E2EBFA;\n",
              "      box-shadow: 0px 1px 2px rgba(60, 64, 67, 0.3), 0px 1px 3px 1px rgba(60, 64, 67, 0.15);\n",
              "      fill: #174EA6;\n",
              "    }\n",
              "\n",
              "    .colab-df-buttons div {\n",
              "      margin-bottom: 4px;\n",
              "    }\n",
              "\n",
              "    [theme=dark] .colab-df-convert {\n",
              "      background-color: #3B4455;\n",
              "      fill: #D2E3FC;\n",
              "    }\n",
              "\n",
              "    [theme=dark] .colab-df-convert:hover {\n",
              "      background-color: #434B5C;\n",
              "      box-shadow: 0px 1px 3px 1px rgba(0, 0, 0, 0.15);\n",
              "      filter: drop-shadow(0px 1px 2px rgba(0, 0, 0, 0.3));\n",
              "      fill: #FFFFFF;\n",
              "    }\n",
              "  </style>\n",
              "\n",
              "    <script>\n",
              "      const buttonEl =\n",
              "        document.querySelector('#df-929bbfdf-d5c1-49e9-a2b6-57d77d1d8213 button.colab-df-convert');\n",
              "      buttonEl.style.display =\n",
              "        google.colab.kernel.accessAllowed ? 'block' : 'none';\n",
              "\n",
              "      async function convertToInteractive(key) {\n",
              "        const element = document.querySelector('#df-929bbfdf-d5c1-49e9-a2b6-57d77d1d8213');\n",
              "        const dataTable =\n",
              "          await google.colab.kernel.invokeFunction('convertToInteractive',\n",
              "                                                    [key], {});\n",
              "        if (!dataTable) return;\n",
              "\n",
              "        const docLinkHtml = 'Like what you see? Visit the ' +\n",
              "          '<a target=\"_blank\" href=https://colab.research.google.com/notebooks/data_table.ipynb>data table notebook</a>'\n",
              "          + ' to learn more about interactive tables.';\n",
              "        element.innerHTML = '';\n",
              "        dataTable['output_type'] = 'display_data';\n",
              "        await google.colab.output.renderOutput(dataTable, element);\n",
              "        const docLink = document.createElement('div');\n",
              "        docLink.innerHTML = docLinkHtml;\n",
              "        element.appendChild(docLink);\n",
              "      }\n",
              "    </script>\n",
              "  </div>\n",
              "\n",
              "\n",
              "<div id=\"df-3c0c620a-a436-40ba-b006-6a6a46763d99\">\n",
              "  <button class=\"colab-df-quickchart\" onclick=\"quickchart('df-3c0c620a-a436-40ba-b006-6a6a46763d99')\"\n",
              "            title=\"Suggest charts\"\n",
              "            style=\"display:none;\">\n",
              "\n",
              "<svg xmlns=\"http://www.w3.org/2000/svg\" height=\"24px\"viewBox=\"0 0 24 24\"\n",
              "     width=\"24px\">\n",
              "    <g>\n",
              "        <path d=\"M19 3H5c-1.1 0-2 .9-2 2v14c0 1.1.9 2 2 2h14c1.1 0 2-.9 2-2V5c0-1.1-.9-2-2-2zM9 17H7v-7h2v7zm4 0h-2V7h2v10zm4 0h-2v-4h2v4z\"/>\n",
              "    </g>\n",
              "</svg>\n",
              "  </button>\n",
              "\n",
              "<style>\n",
              "  .colab-df-quickchart {\n",
              "      --bg-color: #E8F0FE;\n",
              "      --fill-color: #1967D2;\n",
              "      --hover-bg-color: #E2EBFA;\n",
              "      --hover-fill-color: #174EA6;\n",
              "      --disabled-fill-color: #AAA;\n",
              "      --disabled-bg-color: #DDD;\n",
              "  }\n",
              "\n",
              "  [theme=dark] .colab-df-quickchart {\n",
              "      --bg-color: #3B4455;\n",
              "      --fill-color: #D2E3FC;\n",
              "      --hover-bg-color: #434B5C;\n",
              "      --hover-fill-color: #FFFFFF;\n",
              "      --disabled-bg-color: #3B4455;\n",
              "      --disabled-fill-color: #666;\n",
              "  }\n",
              "\n",
              "  .colab-df-quickchart {\n",
              "    background-color: var(--bg-color);\n",
              "    border: none;\n",
              "    border-radius: 50%;\n",
              "    cursor: pointer;\n",
              "    display: none;\n",
              "    fill: var(--fill-color);\n",
              "    height: 32px;\n",
              "    padding: 0;\n",
              "    width: 32px;\n",
              "  }\n",
              "\n",
              "  .colab-df-quickchart:hover {\n",
              "    background-color: var(--hover-bg-color);\n",
              "    box-shadow: 0 1px 2px rgba(60, 64, 67, 0.3), 0 1px 3px 1px rgba(60, 64, 67, 0.15);\n",
              "    fill: var(--button-hover-fill-color);\n",
              "  }\n",
              "\n",
              "  .colab-df-quickchart-complete:disabled,\n",
              "  .colab-df-quickchart-complete:disabled:hover {\n",
              "    background-color: var(--disabled-bg-color);\n",
              "    fill: var(--disabled-fill-color);\n",
              "    box-shadow: none;\n",
              "  }\n",
              "\n",
              "  .colab-df-spinner {\n",
              "    border: 2px solid var(--fill-color);\n",
              "    border-color: transparent;\n",
              "    border-bottom-color: var(--fill-color);\n",
              "    animation:\n",
              "      spin 1s steps(1) infinite;\n",
              "  }\n",
              "\n",
              "  @keyframes spin {\n",
              "    0% {\n",
              "      border-color: transparent;\n",
              "      border-bottom-color: var(--fill-color);\n",
              "      border-left-color: var(--fill-color);\n",
              "    }\n",
              "    20% {\n",
              "      border-color: transparent;\n",
              "      border-left-color: var(--fill-color);\n",
              "      border-top-color: var(--fill-color);\n",
              "    }\n",
              "    30% {\n",
              "      border-color: transparent;\n",
              "      border-left-color: var(--fill-color);\n",
              "      border-top-color: var(--fill-color);\n",
              "      border-right-color: var(--fill-color);\n",
              "    }\n",
              "    40% {\n",
              "      border-color: transparent;\n",
              "      border-right-color: var(--fill-color);\n",
              "      border-top-color: var(--fill-color);\n",
              "    }\n",
              "    60% {\n",
              "      border-color: transparent;\n",
              "      border-right-color: var(--fill-color);\n",
              "    }\n",
              "    80% {\n",
              "      border-color: transparent;\n",
              "      border-right-color: var(--fill-color);\n",
              "      border-bottom-color: var(--fill-color);\n",
              "    }\n",
              "    90% {\n",
              "      border-color: transparent;\n",
              "      border-bottom-color: var(--fill-color);\n",
              "    }\n",
              "  }\n",
              "</style>\n",
              "\n",
              "  <script>\n",
              "    async function quickchart(key) {\n",
              "      const quickchartButtonEl =\n",
              "        document.querySelector('#' + key + ' button');\n",
              "      quickchartButtonEl.disabled = true;  // To prevent multiple clicks.\n",
              "      quickchartButtonEl.classList.add('colab-df-spinner');\n",
              "      try {\n",
              "        const charts = await google.colab.kernel.invokeFunction(\n",
              "            'suggestCharts', [key], {});\n",
              "      } catch (error) {\n",
              "        console.error('Error during call to suggestCharts:', error);\n",
              "      }\n",
              "      quickchartButtonEl.classList.remove('colab-df-spinner');\n",
              "      quickchartButtonEl.classList.add('colab-df-quickchart-complete');\n",
              "    }\n",
              "    (() => {\n",
              "      let quickchartButtonEl =\n",
              "        document.querySelector('#df-3c0c620a-a436-40ba-b006-6a6a46763d99 button');\n",
              "      quickchartButtonEl.style.display =\n",
              "        google.colab.kernel.accessAllowed ? 'block' : 'none';\n",
              "    })();\n",
              "  </script>\n",
              "</div>\n",
              "\n",
              "    </div>\n",
              "  </div>\n"
            ],
            "application/vnd.google.colaboratory.intrinsic+json": {
              "type": "dataframe",
              "variable_name": "x",
              "summary": "{\n  \"name\": \"x\",\n  \"rows\": 88449,\n  \"fields\": [\n    {\n      \"column\": \"Order ID\",\n      \"properties\": {\n        \"dtype\": \"number\",\n        \"std\": 3928,\n        \"min\": 5,\n        \"max\": 13835,\n        \"num_unique_values\": 11217,\n        \"samples\": [\n          13818,\n          2762,\n          2591\n        ],\n        \"semantic_type\": \"\",\n        \"description\": \"\"\n      }\n    },\n    {\n      \"column\": \"Order Year\",\n      \"properties\": {\n        \"dtype\": \"number\",\n        \"std\": 3.0530620498367496,\n        \"min\": 2013.0,\n        \"max\": 2024.0,\n        \"num_unique_values\": 12,\n        \"samples\": [\n          2023.0,\n          2022.0,\n          2013.0\n        ],\n        \"semantic_type\": \"\",\n        \"description\": \"\"\n      }\n    },\n    {\n      \"column\": \"Customer ID\",\n      \"properties\": {\n        \"dtype\": \"number\",\n        \"std\": 685,\n        \"min\": 1003,\n        \"max\": 3355,\n        \"num_unique_values\": 2269,\n        \"samples\": [\n          1161,\n          1407,\n          1928\n        ],\n        \"semantic_type\": \"\",\n        \"description\": \"\"\n      }\n    },\n    {\n      \"column\": \"Company ID\",\n      \"properties\": {\n        \"dtype\": \"number\",\n        \"std\": 24785,\n        \"min\": 0,\n        \"max\": 94837,\n        \"num_unique_values\": 1017,\n        \"samples\": [\n          3897,\n          93138,\n          65511\n        ],\n        \"semantic_type\": \"\",\n        \"description\": \"\"\n      }\n    },\n    {\n      \"column\": \"Product ID\",\n      \"properties\": {\n        \"dtype\": \"number\",\n        \"std\": 14215,\n        \"min\": 100,\n        \"max\": 99300,\n        \"num_unique_values\": 302,\n        \"samples\": [\n          6010,\n          1331,\n          2011\n        ],\n        \"semantic_type\": \"\",\n        \"description\": \"\"\n      }\n    },\n    {\n      \"column\": \"Product Unit Selling Price\",\n      \"properties\": {\n        \"dtype\": \"number\",\n        \"std\": 5.608182055389733,\n        \"min\": 0.0,\n        \"max\": 150.0,\n        \"num_unique_values\": 226,\n        \"samples\": [\n          44.0,\n          13.65,\n          20.0\n        ],\n        \"semantic_type\": \"\",\n        \"description\": \"\"\n      }\n    },\n    {\n      \"column\": \"Product Quantity\",\n      \"properties\": {\n        \"dtype\": \"number\",\n        \"std\": 60,\n        \"min\": 1,\n        \"max\": 3600,\n        \"num_unique_values\": 273,\n        \"samples\": [\n          19,\n          900,\n          32\n        ],\n        \"semantic_type\": \"\",\n        \"description\": \"\"\n      }\n    },\n    {\n      \"column\": \"Shipment ID\",\n      \"properties\": {\n        \"dtype\": \"number\",\n        \"std\": 5161,\n        \"min\": 50,\n        \"max\": 19425,\n        \"num_unique_values\": 11217,\n        \"samples\": [\n          19406,\n          4926,\n          4725\n        ],\n        \"semantic_type\": \"\",\n        \"description\": \"\"\n      }\n    },\n    {\n      \"column\": \"Shipment Number\",\n      \"properties\": {\n        \"dtype\": \"number\",\n        \"std\": 5161,\n        \"min\": 50,\n        \"max\": 19425,\n        \"num_unique_values\": 11217,\n        \"samples\": [\n          19406,\n          4926,\n          4725\n        ],\n        \"semantic_type\": \"\",\n        \"description\": \"\"\n      }\n    },\n    {\n      \"column\": \"Shipping Country Code\",\n      \"properties\": {\n        \"dtype\": \"number\",\n        \"std\": 1,\n        \"min\": -1,\n        \"max\": 26,\n        \"num_unique_values\": 28,\n        \"samples\": [\n          8,\n          24,\n          7\n        ],\n        \"semantic_type\": \"\",\n        \"description\": \"\"\n      }\n    }\n  ]\n}"
            }
          },
          "metadata": {},
          "execution_count": 359
        }
      ]
    },
    {
      "cell_type": "code",
      "source": [
        "x.isnull().sum()"
      ],
      "metadata": {
        "colab": {
          "base_uri": "https://localhost:8080/"
        },
        "id": "OovUZJLNDabk",
        "outputId": "2abe15eb-7ddc-4993-d4f8-a9195bee04e6"
      },
      "execution_count": 360,
      "outputs": [
        {
          "output_type": "execute_result",
          "data": {
            "text/plain": [
              "Order ID                      0\n",
              "Order Year                    0\n",
              "Customer ID                   0\n",
              "Company ID                    0\n",
              "Product ID                    0\n",
              "Product Unit Selling Price    0\n",
              "Product Quantity              0\n",
              "Shipment ID                   0\n",
              "Shipment Number               0\n",
              "Shipping Country Code         0\n",
              "dtype: int64"
            ]
          },
          "metadata": {},
          "execution_count": 360
        }
      ]
    },
    {
      "cell_type": "code",
      "source": [
        "#spliting 80/20\n",
        "x_train,x_test,y_train,y_test=train_test_split(x,y,test_size=0.2)"
      ],
      "metadata": {
        "id": "3Tz1YTyj13UF"
      },
      "execution_count": 361,
      "outputs": []
    },
    {
      "cell_type": "code",
      "source": [
        "y.isnull().sum()"
      ],
      "metadata": {
        "colab": {
          "base_uri": "https://localhost:8080/"
        },
        "id": "k1E1uscfJOOG",
        "outputId": "a7584d2b-02ff-4ec2-e627-4cd374a40a5f"
      },
      "execution_count": 362,
      "outputs": [
        {
          "output_type": "execute_result",
          "data": {
            "text/plain": [
              "0"
            ]
          },
          "metadata": {},
          "execution_count": 362
        }
      ]
    },
    {
      "cell_type": "code",
      "source": [
        "y_train.head()"
      ],
      "metadata": {
        "colab": {
          "base_uri": "https://localhost:8080/"
        },
        "id": "KkQj8A0GD3Rn",
        "outputId": "5f203861-c8d3-45e8-ea08-80b733528a6f"
      },
      "execution_count": 363,
      "outputs": [
        {
          "output_type": "execute_result",
          "data": {
            "text/plain": [
              "32927      4.5\n",
              "74917     32.0\n",
              "47366     60.0\n",
              "924      108.0\n",
              "51938     22.0\n",
              "Name: Total Selling Price, dtype: float64"
            ]
          },
          "metadata": {},
          "execution_count": 363
        }
      ]
    },
    {
      "cell_type": "code",
      "source": [
        "y_train.dtypes\n",
        "y_train.unique()"
      ],
      "metadata": {
        "colab": {
          "base_uri": "https://localhost:8080/"
        },
        "id": "KpZoYqULJzMU",
        "outputId": "1ba0fec8-c265-45c5-d4bc-743dc49e5f16"
      },
      "execution_count": 364,
      "outputs": [
        {
          "output_type": "execute_result",
          "data": {
            "text/plain": [
              "array([  4.5 ,  32.  ,  60.  , ...,   5.82, 704.  , 485.1 ])"
            ]
          },
          "metadata": {},
          "execution_count": 364
        }
      ]
    },
    {
      "cell_type": "code",
      "source": [
        "# predicting the values\n",
        "model = RandomForestRegressor(n_estimators=100)\n",
        "\n",
        "model.fit(x_train,y_train)\n",
        "y_pred= model.predict(x_test)\n",
        "print(y_pred)"
      ],
      "metadata": {
        "colab": {
          "base_uri": "https://localhost:8080/"
        },
        "id": "emQ-RgS42B74",
        "outputId": "81b68824-f235-4294-8e58-059bf20b95b2"
      },
      "execution_count": 365,
      "outputs": [
        {
          "output_type": "stream",
          "name": "stdout",
          "text": [
            "[20.    7.85 50.   ... 25.5  17.5  14.  ]\n"
          ]
        }
      ]
    },
    {
      "cell_type": "code",
      "source": [
        "from sklearn.metrics import mean_absolute_error\n",
        "mae=mean_absolute_error(y_test, y_pred)\n",
        "print(f\"Mean absolute error: {mae}\")"
      ],
      "metadata": {
        "colab": {
          "base_uri": "https://localhost:8080/"
        },
        "id": "pgD34uFfOL-B",
        "outputId": "a7b1dba0-bf92-4f7c-c3d5-a4cddd86c22e"
      },
      "execution_count": 367,
      "outputs": [
        {
          "output_type": "stream",
          "name": "stdout",
          "text": [
            "1.1468665573770551\n"
          ]
        }
      ]
    },
    {
      "cell_type": "code",
      "source": [
        "from sklearn.metrics import mean_squared_error\n",
        "mse=mean_squared_error(y_test,y_pred)\n",
        "rmse=np.sqrt(mse)\n",
        "print(f\"Root mean squared error: {rmse}\")"
      ],
      "metadata": {
        "colab": {
          "base_uri": "https://localhost:8080/"
        },
        "id": "iRf54FfJPQIs",
        "outputId": "7e6363d0-4f90-49ac-f29b-891e2a5b1529"
      },
      "execution_count": 368,
      "outputs": [
        {
          "output_type": "stream",
          "name": "stdout",
          "text": [
            "43.97965740572735\n"
          ]
        }
      ]
    },
    {
      "cell_type": "code",
      "source": [
        "#Margin of error\n",
        "from scipy.stats import norm\n",
        "n = len(y_pred)\n",
        "std_dev = np.std(y_pred, ddof=1)\n",
        "confidence_level = 0.95\n",
        "z = norm.ppf((1 + confidence_level) / 2)\n",
        "# Calculate the margin of error\n",
        "margin_of_error = z * (std_dev / np.sqrt(n))\n",
        "print(f\"Margin of Error: {margin_of_error:.2f}\")"
      ],
      "metadata": {
        "colab": {
          "base_uri": "https://localhost:8080/"
        },
        "id": "YBHW86chTMaf",
        "outputId": "15759cfe-b9a7-4aec-c05c-96c5a4de14d9"
      },
      "execution_count": 369,
      "outputs": [
        {
          "output_type": "stream",
          "name": "stdout",
          "text": [
            "Margin of Error: 3.34\n"
          ]
        }
      ]
    },
    {
      "cell_type": "code",
      "source": [
        "#plotting\n",
        "actual_sales = y_test\n",
        "predicted_sales = y_pred\n",
        "\n",
        "# Plot actual vs. predicted total sales\n",
        "plt.figure(figsize=(10, 6))\n",
        "plt.plot(actual_sales, label='Actual Sales', marker='o')  # Plot actual sales\n",
        "plt.plot(predicted_sales, label='Predicted Sales', marker='x')  # Plot predicted sales\n",
        "plt.xlabel('Years')  # Add x-axis label (e.g., time periods)\n",
        "plt.ylabel('Total Sales')  # Add y-axis label\n",
        "plt.title('Actual vs. Predicted Total Sales')  # Add plot title\n",
        "plt.legend()  # Show legend\n",
        "plt.grid(True)  # Add gridlines\n",
        "plt.show()"
      ],
      "metadata": {
        "colab": {
          "base_uri": "https://localhost:8080/",
          "height": 584
        },
        "collapsed": true,
        "id": "_CalrmlhLYIT",
        "outputId": "45f28819-32c4-4258-90b2-b0f7f7d52da2"
      },
      "execution_count": 321,
      "outputs": [
        {
          "output_type": "display_data",
          "data": {
            "text/plain": [
              "<Figure size 1000x600 with 1 Axes>"
            ],
            "image/png": "[encoded data removed]"
          },
          "metadata": {}
        }
      ]
    },
    {
      "cell_type": "code",
      "source": [
        "#For each product ID\n",
        "y=df['Product ID']"
      ],
      "metadata": {
        "id": "cD_rb8tGQIA_"
      },
      "execution_count": 323,
      "outputs": []
    },
    {
      "cell_type": "code",
      "source": [
        "x=df.drop('Product ID',axis=1)"
      ],
      "metadata": {
        "id": "DsYqgvWrQR9P"
      },
      "execution_count": 324,
      "outputs": []
    },
    {
      "cell_type": "code",
      "source": [
        "x.info()"
      ],
      "metadata": {
        "colab": {
          "base_uri": "https://localhost:8080/"
        },
        "id": "LsBhM3X1QY8Y",
        "outputId": "7b217490-9d69-4bf5-c4f4-26237febb29e"
      },
      "execution_count": 325,
      "outputs": [
        {
          "output_type": "stream",
          "name": "stdout",
          "text": [
            "<class 'pandas.core.frame.DataFrame'>\n",
            "Index: 88449 entries, 0 to 89643\n",
            "Data columns (total 10 columns):\n",
            " #   Column                      Non-Null Count  Dtype  \n",
            "---  ------                      --------------  -----  \n",
            " 0   Order ID                    88449 non-null  int64  \n",
            " 1   Order Year                  88449 non-null  float64\n",
            " 2   Customer ID                 88449 non-null  int64  \n",
            " 3   Company ID                  88449 non-null  int64  \n",
            " 4   Product Unit Selling Price  88449 non-null  float64\n",
            " 5   Product Quantity            88449 non-null  int64  \n",
            " 6   Total Selling Price         88449 non-null  float64\n",
            " 7   Shipment ID                 88449 non-null  int64  \n",
            " 8   Shipment Number             88449 non-null  int64  \n",
            " 9   Shipping Country Code       88449 non-null  int64  \n",
            "dtypes: float64(3), int64(7)\n",
            "memory usage: 7.4 MB\n"
          ]
        }
      ]
    },
    {
      "cell_type": "code",
      "source": [
        "#spliting 80/20\n",
        "x_train,x_test,y_train,y_test=train_test_split(x,y,test_size=0.2)"
      ],
      "metadata": {
        "id": "Y1g-oCwiQm6q"
      },
      "execution_count": 332,
      "outputs": []
    },
    {
      "cell_type": "code",
      "source": [
        "# predicting the values\n",
        "model = RandomForestRegressor(n_estimators=100)\n",
        "\n",
        "model.fit(x_train,y_train)\n",
        "y_pred= model.predict(x_test)\n",
        "print(y_pred)"
      ],
      "metadata": {
        "colab": {
          "base_uri": "https://localhost:8080/"
        },
        "id": "U7ihfR0sQscp",
        "outputId": "e530df8b-ff74-49dd-85d1-35bb41bde1df"
      },
      "execution_count": 327,
      "outputs": [
        {
          "output_type": "stream",
          "name": "stdout",
          "text": [
            "[19040.92285714  8910.75333333  3756.54       ...  5060.\n",
            "  3510.          6286.71      ]\n"
          ]
        }
      ]
    },
    {
      "cell_type": "code",
      "source": [
        "from sklearn.metrics import mean_absolute_error\n",
        "mae=mean_absolute_error(y_test, y_pred)\n",
        "print(f\"Mean absolute error: {mae}\")"
      ],
      "metadata": {
        "colab": {
          "base_uri": "https://localhost:8080/"
        },
        "id": "UVmn23e_Qwvv",
        "outputId": "c967626d-81be-4ad3-ca58-4aa0ed06caa5"
      },
      "execution_count": 328,
      "outputs": [
        {
          "output_type": "stream",
          "name": "stdout",
          "text": [
            "3356.9832976173357\n"
          ]
        }
      ]
    },
    {
      "cell_type": "code",
      "source": [
        "from sklearn.metrics import mean_squared_error\n",
        "mse=mean_squared_error(y_test,y_pred)\n",
        "rmse=np.sqrt(mse)\n",
        "print(f\"Root mean squared error: {rmse}\")"
      ],
      "metadata": {
        "colab": {
          "base_uri": "https://localhost:8080/"
        },
        "id": "yI-FxOtVQ0dZ",
        "outputId": "6289d81e-3dae-4b15-c232-e5a633aa3e09"
      },
      "execution_count": 329,
      "outputs": [
        {
          "output_type": "stream",
          "name": "stdout",
          "text": [
            "10745.038610287564\n"
          ]
        }
      ]
    },
    {
      "cell_type": "code",
      "source": [
        "#Margin of error\n",
        "from scipy.stats import norm\n",
        "n = len(y_pred)\n",
        "std_dev = np.std(y_pred, ddof=1)\n",
        "confidence_level = 0.95\n",
        "z = norm.ppf((1 + confidence_level) / 2)\n",
        "# Calculate the margin of error\n",
        "margin_of_error = z * (std_dev / np.sqrt(n))\n",
        "print(f\"Margin of Error: {margin_of_error:.2f}\")"
      ],
      "metadata": {
        "id": "SmvImw_pUTUe"
      },
      "execution_count": null,
      "outputs": []
    },
    {
      "cell_type": "code",
      "source": [
        "#For each company ID\n",
        "y=df['Company ID']"
      ],
      "metadata": {
        "id": "gHRUM77kRz0D"
      },
      "execution_count": 330,
      "outputs": []
    },
    {
      "cell_type": "code",
      "source": [
        "x=df.drop('Company ID',axis=1)"
      ],
      "metadata": {
        "id": "oB-r3D6MR_cX"
      },
      "execution_count": 331,
      "outputs": []
    },
    {
      "cell_type": "code",
      "source": [
        "#spliting 80/20\n",
        "x_train,x_test,y_train,y_test=train_test_split(x,y,test_size=0.2)"
      ],
      "metadata": {
        "id": "P56UoSGNSDAc"
      },
      "execution_count": 336,
      "outputs": []
    },
    {
      "cell_type": "code",
      "source": [
        "# predicting the values\n",
        "model = RandomForestRegressor(n_estimators=100)\n",
        "\n",
        "model.fit(x_train,y_train)\n",
        "y_pred= model.predict(x_test)\n",
        "print(y_pred)"
      ],
      "metadata": {
        "colab": {
          "base_uri": "https://localhost:8080/"
        },
        "id": "f5_dE1R2SHaL",
        "outputId": "27829cd4-9464-49d4-c04d-4a9d2600fbbb"
      },
      "execution_count": 337,
      "outputs": [
        {
          "output_type": "stream",
          "name": "stdout",
          "text": [
            "[23721.  43754.  45730.  ... 31925.  20002.1 69379. ]\n"
          ]
        }
      ]
    },
    {
      "cell_type": "code",
      "source": [
        "from sklearn.metrics import mean_absolute_error\n",
        "mae=mean_absolute_error(y_test, y_pred)\n",
        "print(f\"Mean absolute error: {mae}\")"
      ],
      "metadata": {
        "colab": {
          "base_uri": "https://localhost:8080/"
        },
        "id": "yF9vCM9-SKui",
        "outputId": "bb888220-8d2d-4460-f7af-3a44ed50742e"
      },
      "execution_count": 335,
      "outputs": [
        {
          "output_type": "stream",
          "name": "stdout",
          "text": [
            "1228.0203080836632\n"
          ]
        }
      ]
    },
    {
      "cell_type": "code",
      "source": [
        "from sklearn.metrics import mean_squared_error\n",
        "mse=mean_squared_error(y_test,y_pred)\n",
        "rmse=np.sqrt(mse)\n",
        "print(f\"Root mean squared error: {rmse}\")"
      ],
      "metadata": {
        "colab": {
          "base_uri": "https://localhost:8080/"
        },
        "id": "zN05sDo5SNvH",
        "outputId": "21bc4323-33e9-4d8d-a000-fcaeed4e1457"
      },
      "execution_count": 338,
      "outputs": [
        {
          "output_type": "stream",
          "name": "stdout",
          "text": [
            "3972.2855624142717\n"
          ]
        }
      ]
    },
    {
      "cell_type": "code",
      "source": [
        "#Margin of error\n",
        "from scipy.stats import norm\n",
        "n = len(y_pred)\n",
        "std_dev = np.std(y_pred, ddof=1)\n",
        "confidence_level = 0.95\n",
        "z = norm.ppf((1 + confidence_level) / 2)\n",
        "# Calculate the margin of error\n",
        "margin_of_error = z * (std_dev / np.sqrt(n))\n",
        "print(f\"Margin of Error: {margin_of_error:.2f}\")"
      ],
      "metadata": {
        "id": "dTcqRZFpUVW6"
      },
      "execution_count": null,
      "outputs": []
    },
    {
      "cell_type": "code",
      "source": [
        "#For each country\n",
        "y=df['Shipping Country Code']\n",
        "x=df.drop('Shipping Country Code',axis=1)\n",
        "#spliting 80/20\n",
        "x_train,x_test,y_train,y_test=train_test_split(x,y,test_size=0.2)\n",
        "# predicting the values\n",
        "model = RandomForestRegressor(n_estimators=100)\n",
        "\n",
        "model.fit(x_train,y_train)\n",
        "y_pred= model.predict(x_test)\n",
        "print(y_pred)\n",
        "#accuracy\n",
        "from sklearn.metrics import mean_absolute_error\n",
        "mae=mean_absolute_error(y_test, y_pred)\n",
        "print(f\"Mean absolute error: {mae}\")\n",
        "from sklearn.metrics import mean_squared_error\n",
        "mse=mean_squared_error(y_test,y_pred)\n",
        "rmse=np.sqrt(mse)\n",
        "print(f\"Root mean squared error: {rmse}\")\n",
        "#Margin of error\n",
        "from scipy.stats import norm\n",
        "n = len(y_pred)\n",
        "std_dev = np.std(y_pred, ddof=1)\n",
        "confidence_level = 0.95\n",
        "z = norm.ppf((1 + confidence_level) / 2)\n",
        "# Calculate the margin of error\n",
        "margin_of_error = z * (std_dev / np.sqrt(n))\n",
        "print(f\"Margin of Error: {margin_of_error:.2f}\")"
      ],
      "metadata": {
        "colab": {
          "base_uri": "https://localhost:8080/"
        },
        "id": "LOW5-7PGSQIP",
        "outputId": "63eef7c4-8b31-4ffd-8411-31c76b50779f"
      },
      "execution_count": 339,
      "outputs": [
        {
          "output_type": "stream",
          "name": "stdout",
          "text": [
            "[0. 0. 0. ... 0. 0. 6.]\n",
            "0.020975127190503106\n",
            "0.28981853350487596\n"
          ]
        }
      ]
    }
  ]
}